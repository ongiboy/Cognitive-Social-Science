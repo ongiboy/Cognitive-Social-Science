{
 "cells": [
  {
   "cell_type": "markdown",
   "metadata": {},
   "source": [
    "Link to git repository: https://github.com/ongiboy/Cognitive-Social-Science\n",
    "\n",
    "Group members:\n",
    "* Christian Ong Hansen (s204109)\n",
    "* Kavus Latifi Yaghin (s214601)\n",
    "* Daniel Damkjær Ries (s214641)\n",
    "\n",
    "Group member's contribution:\n",
    "* Every task was made in collaboration by all members."
   ]
  },
  {
   "cell_type": "markdown",
   "metadata": {},
   "source": [
    "# Part 1: Properties of the real-world network of Computational Social Scientists\n",
    "\n",
    "##### 1.1 Analyzing networks through a random model"
   ]
  },
  {
   "cell_type": "code",
   "execution_count": null,
   "metadata": {},
   "outputs": [],
   "source": []
  },
  {
   "cell_type": "markdown",
   "metadata": {},
   "source": [
    "Answer the following questions (max 200 words in total):\n",
    "\n",
    "* What regime does your random network fall into? Is it above or below the critical threshold?\n",
    "\n",
    "* According to the textbook, what does the network's structure resemble in this regime?\n",
    "\n",
    "* Based on your visualizations, identify the key differences between the actual and the random networks. Explain whether these differences are consistent with theoretical expectations."
   ]
  },
  {
   "cell_type": "code",
   "execution_count": null,
   "metadata": {},
   "outputs": [],
   "source": []
  },
  {
   "cell_type": "markdown",
   "metadata": {},
   "source": [
    "# Part 2 Network Analysis in Computational Social Science\n",
    "\n",
    "##### 2.1 Mixing patterns and assortativity"
   ]
  },
  {
   "cell_type": "code",
   "execution_count": null,
   "metadata": {},
   "outputs": [],
   "source": []
  },
  {
   "cell_type": "markdown",
   "metadata": {},
   "source": [
    "Reflection questions (max 250 words for the 3 questions)\n",
    "\n",
    "* Assortativity by degree. Were the results of the degree assortativity in line with your expectations? Why or why not?\n",
    "\n",
    "* Edge flipping. In the process of implementing the configuration model, you were instructed to flip the edges (e.g., changing e_1 from (u,v) to (v,u)) 50% of the time. Why do you think this step is included?\n",
    "\n",
    "* Distribution of assortativity in random networks. Describe the distribution of degree assortativity values you observed for the random networks. Was the distribution pattern expected? Discuss how the nature of random network generation (specifically, the configuration model and edge flipping) might influence this distribution and whether it aligns with theoretical expectations."
   ]
  },
  {
   "cell_type": "markdown",
   "metadata": {},
   "source": [
    "##### 2.2 Central nodes"
   ]
  },
  {
   "cell_type": "markdown",
   "metadata": {},
   "source": [
    "* Find the 5 most central scientists according to the closeness centrality. What role do you imagine scientists with high closeness centrality play?\n",
    "\n",
    "* Find the 5 most central scientists according to eigenvector centrality.\n",
    "\n",
    "* Plot the closeness centrality of nodes vs their degree. Is there a correlation between the two? Did you expect that? Why?\n",
    "\n",
    "* Repeat the two points above using eigenvector centrality instead. Do you observe any difference? Why?"
   ]
  },
  {
   "cell_type": "code",
   "execution_count": null,
   "metadata": {},
   "outputs": [],
   "source": []
  },
  {
   "cell_type": "markdown",
   "metadata": {},
   "source": [
    "# Part 3 - Words that characterize Computational Social Science communities\n",
    "\n",
    "##### 3.1 TF-IDF and the Computational Social Science communities."
   ]
  },
  {
   "cell_type": "markdown",
   "metadata": {},
   "source": [
    "First, check out the wikipedia page for TF-IDF. Explain in your own words the point of TF-IDF.\n",
    "* What does TF stand for?\n",
    "* What does IDF stand for?"
   ]
  },
  {
   "cell_type": "code",
   "execution_count": null,
   "metadata": {},
   "outputs": [],
   "source": []
  },
  {
   "cell_type": "markdown",
   "metadata": {},
   "source": [
    "* Describe similarities and differences between the communities.\n",
    "* Why aren't the TFs not necessarily a good description of the communities?\n",
    "* Next, we calculate IDF for every word.\n",
    "* What base logarithm did you use? Is that important?"
   ]
  },
  {
   "cell_type": "code",
   "execution_count": null,
   "metadata": {},
   "outputs": [],
   "source": []
  },
  {
   "cell_type": "markdown",
   "metadata": {},
   "source": [
    "* Are these 10 words more descriptive of the community? If yes, what is it about IDF that makes the words more informative?"
   ]
  },
  {
   "cell_type": "markdown",
   "metadata": {},
   "source": [
    "##### 3.2 The Wordcloud"
   ]
  },
  {
   "cell_type": "code",
   "execution_count": null,
   "metadata": {},
   "outputs": [],
   "source": []
  },
  {
   "cell_type": "markdown",
   "metadata": {},
   "source": [
    "##### 3.3 Computational Social Science\n",
    "\n",
    "* Go back to Week 1, Exercise 1. Revise what you wrote on the topics in Computational Social Science.\n",
    "\n",
    "* In light of your data-driven analysis, has your understanding of the field changed? How? (max 150 words)"
   ]
  }
 ],
 "metadata": {
  "language_info": {
   "name": "python"
  }
 },
 "nbformat": 4,
 "nbformat_minor": 2
}
